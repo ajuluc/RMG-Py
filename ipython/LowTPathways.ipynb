{
 "cells": [
  {
   "cell_type": "markdown",
   "metadata": {},
   "source": [
    "# Generate Low Temperature Reactions\n",
    "\n",
    "The goal of this notebook is to allow you to generate all the species that would occur by systematically applying known low-temperature pathways to a starting fuel molecule.\n",
    "\n",
    "You might do this to generate species that you then put into an RMG input file.\n",
    "\n",
    "It is based on a similar notebook for generating reactions. \n",
    "\n",
    "This script performs the same task as the script in `scripts/generateReactions.py` but in visual ipynb format.\n",
    "It can also evaluate the reaction forward and reverse rates at a user selected temperature."
   ]
  },
  {
   "cell_type": "code",
   "execution_count": 1,
   "metadata": {},
   "outputs": [],
   "source": [
    "import sys, os\n",
    "sys.path.insert(0,os.path.expandvars(\"$RMGpy\"))"
   ]
  },
  {
   "cell_type": "code",
   "execution_count": 2,
   "metadata": {},
   "outputs": [
    {
     "name": "stderr",
     "output_type": "stream",
     "text": [
      "WARNING:root:No kyotocabinet available\n"
     ]
    }
   ],
   "source": [
    "from rmgpy.rmg.main import RMG\n",
    "from rmgpy.rmg.model import CoreEdgeReactionModel\n",
    "from rmgpy import settings\n",
    "from IPython.display import display\n",
    "from arkane.output import prettify"
   ]
  },
  {
   "cell_type": "markdown",
   "metadata": {},
   "source": [
    "Declare database variables here by changing the thermo and reaction libraries, or restrict to certain reaction families.  "
   ]
  },
  {
   "cell_type": "code",
   "execution_count": 3,
   "metadata": {},
   "outputs": [],
   "source": [
    "database = \"\"\"\n",
    "database(\n",
    "    thermoLibraries = ['BurkeH2O2','primaryThermoLibrary','DFT_QCI_thermo','CBS_QB3_1dHR','Narayanaswamy','Chernov'],\n",
    "    reactionLibraries = [],\n",
    "    seedMechanisms = [],\n",
    "    kineticsDepositories = ['training'],\n",
    "    kineticsFamilies = [\n",
    "    'H_Abstraction',\n",
    "    'R_Recombination',\n",
    "    'R_Addition_MultipleBond',\n",
    "    'intra_H_migration',\n",
    "    'Intra_R_Add_Endocyclic',\n",
    "    'Intra_R_Add_Exocyclic'\n",
    "    ],\n",
    "    kineticsEstimator = 'rate rules',\n",
    ")\n",
    "\n",
    "options(\n",
    "    verboseComments=True,  # Set to True for detailed kinetics comments\n",
    ")\n",
    "\"\"\""
   ]
  },
  {
   "cell_type": "markdown",
   "metadata": {},
   "source": [
    "List all species you want reactions between"
   ]
  },
  {
   "cell_type": "code",
   "execution_count": 4,
   "metadata": {},
   "outputs": [],
   "source": [
    "speciesList = \"\"\"\n",
    "species(\n",
    "    label='c10',\n",
    "    reactive=True,\n",
    "    structure=SMILES(\"CCCCCCCCCC\")\n",
    ")\n",
    "\n",
    "species(\n",
    "    label='o2',\n",
    "    reactive=True,\n",
    "    structure=SMILES(\"[O][O]\")\n",
    ")\n",
    "\"\"\""
   ]
  },
  {
   "cell_type": "code",
   "execution_count": 5,
   "metadata": {},
   "outputs": [],
   "source": [
    "# Write input file to disk\n",
    "os.makedirs('temp',exist_ok=True)\n",
    "inputFile = open('temp/input.py','w')\n",
    "inputFile.write(database)\n",
    "inputFile.write(speciesList)\n",
    "inputFile.close()"
   ]
  },
  {
   "cell_type": "code",
   "execution_count": 6,
   "metadata": {
    "scrolled": true
   },
   "outputs": [
    {
     "data": {
      "image/png": "[encoded data removed]",
      "text/plain": [
       "Species(label=\"Ar\", thermo=NASA(polynomials=[NASAPolynomial(coeffs=[2.5,9.24385e-15,-1.3678e-17,6.66185e-21,-1.00107e-24,-745,4.3663], Tmin=(100,'K'), Tmax=(3459.6,'K')), NASAPolynomial(coeffs=[2.5,9.20456e-12,-3.58608e-15,6.15199e-19,-3.92042e-23,-745,4.3663], Tmin=(3459.6,'K'), Tmax=(5000,'K'))], Tmin=(100,'K'), Tmax=(5000,'K'), E0=(-6.19426,'kJ/mol'), Cp0=(20.7862,'J/(mol*K)'), CpInf=(20.7862,'J/(mol*K)'), label=\"\"\"Ar\"\"\", comment=\"\"\"Thermo library: BurkeH2O2\"\"\"), conformer=Conformer(E0=(-6.19426,'kJ/mol'), modes=[]), molecule=[Molecule(smiles=\"[Ar]\")], reactive=False, molecular_weight=(39.348,'amu'), energy_transfer_model=SingleExponentialDown(alpha0=(3.5886,'kJ/mol'), T0=(300,'K'), n=0.85))"
      ]
     },
     "metadata": {},
     "output_type": "display_data"
    },
    {
     "data": {
      "image/png": "[encoded data removed]",
      "text/plain": [
       "Species(label=\"He\", thermo=NASA(polynomials=[NASAPolynomial(coeffs=[2.5,9.24385e-15,-1.3678e-17,6.66185e-21,-1.00107e-24,-745,0.914222], Tmin=(100,'K'), Tmax=(3459.6,'K')), NASAPolynomial(coeffs=[2.5,9.20456e-12,-3.58608e-15,6.15199e-19,-3.92042e-23,-745,0.914222], Tmin=(3459.6,'K'), Tmax=(5000,'K'))], Tmin=(100,'K'), Tmax=(5000,'K'), E0=(-6.19426,'kJ/mol'), Cp0=(20.7862,'J/(mol*K)'), CpInf=(20.7862,'J/(mol*K)'), label=\"\"\"He\"\"\", comment=\"\"\"Thermo library: BurkeH2O2\"\"\"), conformer=Conformer(E0=(-6.19426,'kJ/mol'), modes=[]), molecule=[Molecule(smiles=\"[He]\")], reactive=False, molecular_weight=(4.0026,'amu'), energy_transfer_model=SingleExponentialDown(alpha0=(3.5886,'kJ/mol'), T0=(300,'K'), n=0.85))"
      ]
     },
     "metadata": {},
     "output_type": "display_data"
    },
    {
     "data": {
      "image/png": "[encoded data removed]",
      "text/plain": [
       "Species(label=\"Ne\", thermo=NASA(polynomials=[NASAPolynomial(coeffs=[2.5,0,0,0,0,-745.375,3.35532], Tmin=(200,'K'), Tmax=(1000,'K')), NASAPolynomial(coeffs=[2.5,0,0,0,0,-745.375,3.35532], Tmin=(1000,'K'), Tmax=(6000,'K'))], Tmin=(200,'K'), Tmax=(6000,'K'), E0=(-6.19738,'kJ/mol'), Cp0=(20.7862,'J/(mol*K)'), CpInf=(20.7862,'J/(mol*K)'), label=\"\"\"Ne\"\"\", comment=\"\"\"Thermo library: primaryThermoLibrary\"\"\"), conformer=Conformer(E0=(-6.19738,'kJ/mol'), modes=[]), molecule=[Molecule(smiles=\"[Ne]\")], reactive=False, molecular_weight=(20.1797,'amu'), energy_transfer_model=SingleExponentialDown(alpha0=(3.5886,'kJ/mol'), T0=(300,'K'), n=0.85))"
      ]
     },
     "metadata": {},
     "output_type": "display_data"
    },
    {
     "data": {
      "image/png": "[encoded data removed]",
      "text/plain": [
       "Species(label=\"N2\", thermo=NASA(polynomials=[NASAPolynomial(coeffs=[3.61263,-0.00100893,2.49898e-06,-1.43376e-09,2.58636e-13,-1051.1,2.6527], Tmin=(100,'K'), Tmax=(1817.04,'K')), NASAPolynomial(coeffs=[2.9759,0.00164141,-7.19722e-07,1.25378e-10,-7.91526e-15,-1025.84,5.53757], Tmin=(1817.04,'K'), Tmax=(5000,'K'))], Tmin=(100,'K'), Tmax=(5000,'K'), E0=(-8.69489,'kJ/mol'), Cp0=(29.1007,'J/(mol*K)'), CpInf=(37.4151,'J/(mol*K)'), label=\"\"\"N2\"\"\", comment=\"\"\"Thermo library: BurkeH2O2\"\"\"), conformer=Conformer(E0=(-8.69489,'kJ/mol'), modes=[]), molecule=[Molecule(smiles=\"N#N\")], reactive=False, molecular_weight=(28.0135,'amu'), energy_transfer_model=SingleExponentialDown(alpha0=(3.5886,'kJ/mol'), T0=(300,'K'), n=0.85))"
      ]
     },
     "metadata": {},
     "output_type": "display_data"
    },
    {
     "data": {
      "image/png": "[encoded data removed]",
      "text/plain": [
       "Species(index=1, label=\"c10\", thermo=NASA(polynomials=[NASAPolynomial(coeffs=[-1.87596,0.120581,-7.3994e-05,2.28626e-08,-2.90803e-12,-34298.6,43.4818], Tmin=(100,'K'), Tmax=(1753.74,'K')), NASAPolynomial(coeffs=[22.7563,0.0643989,-2.59403e-05,4.59541e-09,-3.03992e-13,-42938.3,-89.1916], Tmin=(1753.74,'K'), Tmax=(5000,'K'))], Tmin=(100,'K'), Tmax=(5000,'K'), E0=(-286.986,'kJ/mol'), Cp0=(33.2579,'J/(mol*K)'), CpInf=(744.145,'J/(mol*K)'), comment=\"\"\"Thermo group additivity estimation: group(Cs-CsCsHH) + group(Cs-CsCsHH) + group(Cs-CsCsHH) + group(Cs-CsCsHH) + group(Cs-CsCsHH) + group(Cs-CsCsHH) + group(Cs-CsCsHH) + group(Cs-CsCsHH) + group(Cs-CsHHH) + group(Cs-CsHHH)\"\"\"), conformer=Conformer(E0=(-286.986,'kJ/mol'), modes=[]), molecule=[Molecule(smiles=\"CCCCCCCCCC\")], molecular_weight=(142.282,'amu'), energy_transfer_model=SingleExponentialDown(alpha0=(3.5886,'kJ/mol'), T0=(300,'K'), n=0.85))"
      ]
     },
     "metadata": {},
     "output_type": "display_data"
    },
    {
     "data": {
      "image/png": "[encoded data removed]",
      "text/plain": [
       "Species(index=1, label=\"c10\", thermo=NASA(polynomials=[NASAPolynomial(coeffs=[-1.87596,0.120581,-7.3994e-05,2.28626e-08,-2.90803e-12,-34298.6,43.4818], Tmin=(100,'K'), Tmax=(1753.74,'K')), NASAPolynomial(coeffs=[22.7563,0.0643989,-2.59403e-05,4.59541e-09,-3.03992e-13,-42938.3,-89.1916], Tmin=(1753.74,'K'), Tmax=(5000,'K'))], Tmin=(100,'K'), Tmax=(5000,'K'), E0=(-286.986,'kJ/mol'), Cp0=(33.2579,'J/(mol*K)'), CpInf=(744.145,'J/(mol*K)'), comment=\"\"\"Thermo group additivity estimation: group(Cs-CsCsHH) + group(Cs-CsCsHH) + group(Cs-CsCsHH) + group(Cs-CsCsHH) + group(Cs-CsCsHH) + group(Cs-CsCsHH) + group(Cs-CsCsHH) + group(Cs-CsCsHH) + group(Cs-CsHHH) + group(Cs-CsHHH)\"\"\"), conformer=Conformer(E0=(-286.986,'kJ/mol'), modes=[]), molecule=[Molecule(smiles=\"CCCCCCCCCC\")], molecular_weight=(142.282,'amu'), energy_transfer_model=SingleExponentialDown(alpha0=(3.5886,'kJ/mol'), T0=(300,'K'), n=0.85))"
      ]
     },
     "metadata": {},
     "output_type": "display_data"
    },
    {
     "data": {
      "image/png": "[encoded data removed]",
      "text/plain": [
       "Species(index=2, label=\"o2\", thermo=NASA(polynomials=[NASAPolynomial(coeffs=[3.53764,-0.00122828,5.36759e-06,-4.93128e-09,1.45955e-12,-1037.99,4.6718], Tmin=(100,'K'), Tmax=(1087.71,'K')), NASAPolynomial(coeffs=[3.16427,0.00169454,-8.00335e-07,1.5903e-10,-1.14891e-14,-1048.45,6.08303], Tmin=(1087.71,'K'), Tmax=(5000,'K'))], Tmin=(100,'K'), Tmax=(5000,'K'), E0=(-8.62178,'kJ/mol'), Cp0=(29.1007,'J/(mol*K)'), CpInf=(37.4151,'J/(mol*K)'), label=\"\"\"O2\"\"\", comment=\"\"\"Thermo library: BurkeH2O2\"\"\"), conformer=Conformer(E0=(-8.62178,'kJ/mol'), modes=[]), molecule=[Molecule(smiles=\"[O][O]\")], molecular_weight=(31.9988,'amu'), energy_transfer_model=SingleExponentialDown(alpha0=(3.5886,'kJ/mol'), T0=(300,'K'), n=0.85))"
      ]
     },
     "metadata": {},
     "output_type": "display_data"
    },
    {
     "data": {
      "image/png": "[encoded data removed]",
      "text/plain": [
       "Species(index=2, label=\"o2\", thermo=NASA(polynomials=[NASAPolynomial(coeffs=[3.53764,-0.00122828,5.36759e-06,-4.93128e-09,1.45955e-12,-1037.99,4.6718], Tmin=(100,'K'), Tmax=(1087.71,'K')), NASAPolynomial(coeffs=[3.16427,0.00169454,-8.00335e-07,1.5903e-10,-1.14891e-14,-1048.45,6.08303], Tmin=(1087.71,'K'), Tmax=(5000,'K'))], Tmin=(100,'K'), Tmax=(5000,'K'), E0=(-8.62178,'kJ/mol'), Cp0=(29.1007,'J/(mol*K)'), CpInf=(37.4151,'J/(mol*K)'), label=\"\"\"O2\"\"\", comment=\"\"\"Thermo library: BurkeH2O2\"\"\"), conformer=Conformer(E0=(-8.62178,'kJ/mol'), modes=[]), molecule=[Molecule(smiles=\"[O][O]\")], molecular_weight=(31.9988,'amu'), energy_transfer_model=SingleExponentialDown(alpha0=(3.5886,'kJ/mol'), T0=(300,'K'), n=0.85))"
      ]
     },
     "metadata": {},
     "output_type": "display_data"
    }
   ],
   "source": [
    "# initialize RMG instance\n",
    "from rmgpy.tools.generate_reactions import RMG\n",
    "kwargs = {\n",
    "            'restart': '',\n",
    "            'walltime': '00:00:00:00',\n",
    "            'kineticsdatastore': True\n",
    "    }\n",
    "rmg = RMG(input_file='temp/input.py', output_directory='temp')\n",
    "\n",
    "rmg.initialize(**kwargs)\n"
   ]
  },
  {
   "cell_type": "code",
   "execution_count": 44,
   "metadata": {},
   "outputs": [],
   "source": [
    "from rmgpy.molecule import Molecule\n",
    "m = Molecule(smiles='CCCCCCCCCC')\n",
    "h = Molecule(smiles='[H]')\n",
    "reactions = rmg.database.kinetics.react_molecules(, only_families='H_Abstraction')\n",
    "for r in reactions:\n",
    "    r.products"
   ]
  },
  {
   "cell_type": "code",
   "execution_count": 53,
   "metadata": {
    "scrolled": true
   },
   "outputs": [
    {
     "data": {
      "text/plain": [
       "defaultdict(set,\n",
       "            {'fuel': {Molecule(smiles=\"CCCCCCCCCC\")},\n",
       "             'H': {Molecule(smiles=\"[H]\")}})"
      ]
     },
     "execution_count": 53,
     "metadata": {},
     "output_type": "execute_result"
    }
   ],
   "source": [
    "molecules = defaultdict(set)\n",
    "molecules['fuel'].add(Molecule(smiles='CCCCCCCCCC'))\n",
    "molecules['H'].add(Molecule(smiles='[H]'))\n",
    "molecules"
   ]
  },
  {
   "cell_type": "code",
   "execution_count": 61,
   "metadata": {},
   "outputs": [],
   "source": [
    "def union(*args):\n",
    "    out = set()\n",
    "    for a in args:\n",
    "        out.update(molecules[a])\n",
    "    return out"
   ]
  },
  {
   "cell_type": "code",
   "execution_count": 63,
   "metadata": {},
   "outputs": [
    {
     "data": {
      "text/plain": [
       "{Molecule(smiles=\"[H]\"), Molecule(smiles=\"CCCCCCCCCC\")}"
      ]
     },
     "execution_count": 63,
     "metadata": {},
     "output_type": "execute_result"
    }
   ],
   "source": [
    "union('fuel','H')"
   ]
  },
  {
   "cell_type": "code",
   "execution_count": 72,
   "metadata": {
    "scrolled": true
   },
   "outputs": [
    {
     "data": {
      "text/plain": [
       "defaultdict(set,\n",
       "            {'fuel': {Molecule(smiles=\"CCCCCCCCCC\")},\n",
       "             'H': {Molecule(smiles=\"[H]\")},\n",
       "             'R': {Molecule(smiles=\"CCC[CH]CCCCCC\"),\n",
       "              Molecule(smiles=\"CCCC[CH]CCCCC\"),\n",
       "              Molecule(smiles=\"C[CH]CCCCCCCC\"),\n",
       "              Molecule(smiles=\"CC[CH]CCCCCCC\"),\n",
       "              Molecule(smiles=\"[CH2]CCCCCCCCC\")}})"
      ]
     },
     "execution_count": 72,
     "metadata": {},
     "output_type": "execute_result"
    }
   ],
   "source": [
    "# React fuel with H to get the radicals R\n",
    "reactions = rmg.database.kinetics.react_molecules(union('fuel', 'H'), only_families='H_Abstraction')\n",
    "for r in reactions:\n",
    "    for prod in r.products:\n",
    "        if prod.get_formula() == 'H2':\n",
    "            continue\n",
    "        molecules['R'].add(prod)\n",
    "molecules"
   ]
  },
  {
   "cell_type": "code",
   "execution_count": 73,
   "metadata": {},
   "outputs": [
    {
     "data": {
      "text/plain": [
       "defaultdict(set,\n",
       "            {'fuel': {Molecule(smiles=\"CCCCCCCCCC\")},\n",
       "             'H': {Molecule(smiles=\"[H]\")},\n",
       "             'R': {Molecule(smiles=\"CCC[CH]CCCCCC\"),\n",
       "              Molecule(smiles=\"CCCC[CH]CCCCC\"),\n",
       "              Molecule(smiles=\"C[CH]CCCCCCCC\"),\n",
       "              Molecule(smiles=\"CC[CH]CCCCCCC\"),\n",
       "              Molecule(smiles=\"[CH2]CCCCCCCCC\")},\n",
       "             'O2': {Molecule(smiles=\"[O][O]\")}})"
      ]
     },
     "execution_count": 73,
     "metadata": {},
     "output_type": "execute_result"
    }
   ],
   "source": [
    "molecules['O2'].add(Molecule(smiles='[O][O]'))\n",
    "molecules"
   ]
  },
  {
   "cell_type": "code",
   "execution_count": 91,
   "metadata": {},
   "outputs": [
    {
     "data": {
      "image/png": "[encoded data removed]",
      "text/plain": [
       "Molecule(smiles=\"CCC[CH]CCCCCC\")"
      ]
     },
     "metadata": {},
     "output_type": "display_data"
    },
    {
     "name": "stdout",
     "output_type": "stream",
     "text": [
      "[O][O] + CCC[CH]CCCCCC <=> CCCCCCC(CCC)O[O]\n"
     ]
    },
    {
     "data": {
      "image/png": "[encoded data removed]",
      "text/plain": [
       "Molecule(smiles=\"CCCC[CH]CCCCC\")"
      ]
     },
     "metadata": {},
     "output_type": "display_data"
    },
    {
     "name": "stdout",
     "output_type": "stream",
     "text": [
      "[O][O] + CCCC[CH]CCCCC <=> CCCCCC(CCCC)O[O]\n"
     ]
    },
    {
     "data": {
      "image/png": "[encoded data removed]",
      "text/plain": [
       "Molecule(smiles=\"C[CH]CCCCCCCC\")"
      ]
     },
     "metadata": {},
     "output_type": "display_data"
    },
    {
     "name": "stdout",
     "output_type": "stream",
     "text": [
      "[O][O] + C[CH]CCCCCCCC <=> CCCCCCCCC(C)O[O]\n"
     ]
    },
    {
     "data": {
      "image/png": "[encoded data removed]",
      "text/plain": [
       "Molecule(smiles=\"CC[CH]CCCCCCC\")"
      ]
     },
     "metadata": {},
     "output_type": "display_data"
    },
    {
     "name": "stdout",
     "output_type": "stream",
     "text": [
      "[O][O] + CC[CH]CCCCCCC <=> CCCCCCCC(CC)O[O]\n"
     ]
    },
    {
     "data": {
      "image/png": "[encoded data removed]",
      "text/plain": [
       "Molecule(smiles=\"[CH2]CCCCCCCCC\")"
      ]
     },
     "metadata": {},
     "output_type": "display_data"
    },
    {
     "name": "stdout",
     "output_type": "stream",
     "text": [
      "[O][O] + [CH2]CCCCCCCCC <=> CCCCCCCCCCO[O]\n"
     ]
    },
    {
     "data": {
      "text/plain": [
       "defaultdict(set,\n",
       "            {'fuel': {Molecule(smiles=\"CCCCCCCCCC\")},\n",
       "             'H': {Molecule(smiles=\"[H]\")},\n",
       "             'R': {Molecule(smiles=\"CCC[CH]CCCCCC\"),\n",
       "              Molecule(smiles=\"CCCC[CH]CCCCC\"),\n",
       "              Molecule(smiles=\"C[CH]CCCCCCCC\"),\n",
       "              Molecule(smiles=\"CC[CH]CCCCCCC\"),\n",
       "              Molecule(smiles=\"[CH2]CCCCCCCCC\")},\n",
       "             'O2': {Molecule(smiles=\"[O][O]\")},\n",
       "             'ROO': {Molecule(smiles=\"CCCCCCCCCCO[O]\"),\n",
       "              Molecule(smiles=\"CCCCCCCC(CC)O[O]\"),\n",
       "              Molecule(smiles=\"CCCCCCCCC(C)O[O]\"),\n",
       "              Molecule(smiles=\"CCCCCCC(CCC)O[O]\"),\n",
       "              Molecule(smiles=\"CCCCCC(CCCC)O[O]\")}})"
      ]
     },
     "execution_count": 91,
     "metadata": {},
     "output_type": "execute_result"
    }
   ],
   "source": [
    "# React R with O2 to get the ROO\n",
    "o2 = list(molecules['O2'])[0]\n",
    "for s in molecules['R']:\n",
    "    reactions = rmg.database.kinetics.generate_reactions_from_families((s, o2), only_families='R_Recombination')\n",
    "    display(s)\n",
    "    for r in reactions:\n",
    "        print(r)\n",
    "        molecules['ROO'].add(r.products[0].molecule[0])\n",
    "molecules"
   ]
  },
  {
   "cell_type": "code",
   "execution_count": 92,
   "metadata": {},
   "outputs": [
    {
     "data": {
      "image/png": "[encoded data removed]",
      "text/plain": [
       "Molecule(smiles=\"CCCCCCCCCCO[O]\")"
      ]
     },
     "metadata": {},
     "output_type": "display_data"
    },
    {
     "name": "stdout",
     "output_type": "stream",
     "text": [
      "CCCCCCCCCCO[O] <=> CCCCCCCCC[CH]OO\n",
      "CCCCCCCCCCO[O] <=> CCCCCCCC[CH]COO\n",
      "CCCCCCCCCCO[O] <=> CCCCCCC[CH]CCOO\n",
      "CCCCCCCCCCO[O] <=> CCCCCC[CH]CCCOO\n",
      "CCCCCCCCCCO[O] <=> CCCCC[CH]CCCCOO\n",
      "CCCCCCCCCCO[O] <=> CCCC[CH]CCCCCOO\n"
     ]
    },
    {
     "data": {
      "image/png": "[encoded data removed]",
      "text/plain": [
       "Molecule(smiles=\"CCCCCCCC(CC)O[O]\")"
      ]
     },
     "metadata": {},
     "output_type": "display_data"
    },
    {
     "name": "stdout",
     "output_type": "stream",
     "text": [
      "CCCCCCCC(CC)O[O] <=> CCCCCCC[C](CC)OO\n",
      "CCCCCCCC(CC)O[O] <=> CCCCCC[CH]C(CC)OO\n",
      "CCCCCCCC(CC)O[O] <=> C[CH]C(CCCCCCC)OO\n",
      "CCCCCCCC(CC)O[O] <=> CCCCC[CH]CC(CC)OO\n",
      "CCCCCCCC(CC)O[O] <=> [CH2]CC(CCCCCCC)OO\n",
      "CCCCCCCC(CC)O[O] <=> CCCC[CH]CCC(CC)OO\n",
      "CCCCCCCC(CC)O[O] <=> CCC[CH]CCCC(CC)OO\n",
      "CCCCCCCC(CC)O[O] <=> CC[CH]CCCCC(CC)OO\n"
     ]
    },
    {
     "data": {
      "image/png": "[encoded data removed]",
      "text/plain": [
       "Molecule(smiles=\"CCCCCCCCC(C)O[O]\")"
      ]
     },
     "metadata": {},
     "output_type": "display_data"
    },
    {
     "name": "stdout",
     "output_type": "stream",
     "text": [
      "CCCCCCCCC(C)O[O] <=> CCCCCCCC[C](C)OO\n",
      "CCCCCCCCC(C)O[O] <=> CCCCCCC[CH]C(C)OO\n",
      "CCCCCCCCC(C)O[O] <=> [CH2]C(CCCCCCCC)OO\n",
      "CCCCCCCCC(C)O[O] <=> CCCCCC[CH]CC(C)OO\n",
      "CCCCCCCCC(C)O[O] <=> CCCCC[CH]CCC(C)OO\n",
      "CCCCCCCCC(C)O[O] <=> CCCC[CH]CCCC(C)OO\n",
      "CCCCCCCCC(C)O[O] <=> CCC[CH]CCCCC(C)OO\n"
     ]
    },
    {
     "data": {
      "image/png": "[encoded data removed]",
      "text/plain": [
       "Molecule(smiles=\"CCCCCCC(CCC)O[O]\")"
      ]
     },
     "metadata": {},
     "output_type": "display_data"
    },
    {
     "name": "stdout",
     "output_type": "stream",
     "text": [
      "CCCCCCC(CCC)O[O] <=> CCCCCC[C](CCC)OO\n",
      "CCCCCCC(CCC)O[O] <=> CCCCC[CH]C(CCC)OO\n",
      "CCCCCCC(CCC)O[O] <=> CC[CH]C(CCCCCC)OO\n",
      "CCCCCCC(CCC)O[O] <=> CCCC[CH]CC(CCC)OO\n",
      "CCCCCCC(CCC)O[O] <=> C[CH]CC(CCCCCC)OO\n",
      "CCCCCCC(CCC)O[O] <=> CCC[CH]CCC(CCC)OO\n",
      "CCCCCCC(CCC)O[O] <=> [CH2]CCC(CCCCCC)OO\n",
      "CCCCCCC(CCC)O[O] <=> CC[CH]CCCC(CCC)OO\n",
      "CCCCCCC(CCC)O[O] <=> C[CH]CCCCC(CCC)OO\n"
     ]
    },
    {
     "data": {
      "image/png": "[encoded data removed]",
      "text/plain": [
       "Molecule(smiles=\"CCCCCC(CCCC)O[O]\")"
      ]
     },
     "metadata": {},
     "output_type": "display_data"
    },
    {
     "name": "stdout",
     "output_type": "stream",
     "text": [
      "CCCCCC(CCCC)O[O] <=> CCCCC[C](CCCC)OO\n",
      "CCCCCC(CCCC)O[O] <=> CCCC[CH]C(CCCC)OO\n",
      "CCCCCC(CCCC)O[O] <=> CCC[CH]C(CCCCC)OO\n",
      "CCCCCC(CCCC)O[O] <=> CCC[CH]CC(CCCC)OO\n",
      "CCCCCC(CCCC)O[O] <=> CC[CH]CC(CCCCC)OO\n",
      "CCCCCC(CCCC)O[O] <=> CC[CH]CCC(CCCC)OO\n",
      "CCCCCC(CCCC)O[O] <=> C[CH]CCC(CCCCC)OO\n",
      "CCCCCC(CCCC)O[O] <=> C[CH]CCCC(CCCC)OO\n",
      "CCCCCC(CCCC)O[O] <=> [CH2]CCCC(CCCCC)OO\n",
      "CCCCCC(CCCC)O[O] <=> [CH2]CCCCC(CCCC)OO\n"
     ]
    },
    {
     "data": {
      "text/plain": [
       "defaultdict(set,\n",
       "            {'fuel': {Molecule(smiles=\"CCCCCCCCCC\")},\n",
       "             'H': {Molecule(smiles=\"[H]\")},\n",
       "             'R': {Molecule(smiles=\"CCC[CH]CCCCCC\"),\n",
       "              Molecule(smiles=\"CCCC[CH]CCCCC\"),\n",
       "              Molecule(smiles=\"C[CH]CCCCCCCC\"),\n",
       "              Molecule(smiles=\"CC[CH]CCCCCCC\"),\n",
       "              Molecule(smiles=\"[CH2]CCCCCCCCC\")},\n",
       "             'O2': {Molecule(smiles=\"[O][O]\")},\n",
       "             'ROO': {Molecule(smiles=\"CCCCCCCCCCO[O]\"),\n",
       "              Molecule(smiles=\"CCCCCCCC(CC)O[O]\"),\n",
       "              Molecule(smiles=\"CCCCCCCCC(C)O[O]\"),\n",
       "              Molecule(smiles=\"CCCCCCC(CCC)O[O]\"),\n",
       "              Molecule(smiles=\"CCCCCC(CCCC)O[O]\")},\n",
       "             'QOOH': {Molecule(smiles=\"CCC[CH]CCCCC(C)OO\"),\n",
       "              Molecule(smiles=\"CCCCCC[C](CCC)OO\"),\n",
       "              Molecule(smiles=\"CCCCC[CH]C(CCC)OO\"),\n",
       "              Molecule(smiles=\"CC[CH]C(CCCCCC)OO\"),\n",
       "              Molecule(smiles=\"CCCC[CH]CC(CCC)OO\"),\n",
       "              Molecule(smiles=\"C[CH]CC(CCCCCC)OO\"),\n",
       "              Molecule(smiles=\"CCC[CH]CCC(CCC)OO\"),\n",
       "              Molecule(smiles=\"[CH2]CCC(CCCCCC)OO\"),\n",
       "              Molecule(smiles=\"CC[CH]CCCC(CCC)OO\"),\n",
       "              Molecule(smiles=\"C[CH]CCCCC(CCC)OO\"),\n",
       "              Molecule(smiles=\"CCCCCC[CH]CC(C)OO\"),\n",
       "              Molecule(smiles=\"CCCCC[CH]CCC(C)OO\"),\n",
       "              Molecule(smiles=\"[CH2]CC(CCCCCCC)OO\"),\n",
       "              Molecule(smiles=\"CCCC[CH]CCC(CC)OO\"),\n",
       "              Molecule(smiles=\"CCC[CH]CCCC(CC)OO\"),\n",
       "              Molecule(smiles=\"CC[CH]CCCCC(CC)OO\"),\n",
       "              Molecule(smiles=\"CCCCCCCC[C](C)OO\"),\n",
       "              Molecule(smiles=\"CCCCCCC[CH]C(C)OO\"),\n",
       "              Molecule(smiles=\"[CH2]C(CCCCCCCC)OO\"),\n",
       "              Molecule(smiles=\"CCCCC[CH]CCCCOO\"),\n",
       "              Molecule(smiles=\"CCCCC[C](CCCC)OO\"),\n",
       "              Molecule(smiles=\"CCCC[CH]C(CCCC)OO\"),\n",
       "              Molecule(smiles=\"CCC[CH]C(CCCCC)OO\"),\n",
       "              Molecule(smiles=\"CCC[CH]CC(CCCC)OO\"),\n",
       "              Molecule(smiles=\"CC[CH]CC(CCCCC)OO\"),\n",
       "              Molecule(smiles=\"CC[CH]CCC(CCCC)OO\"),\n",
       "              Molecule(smiles=\"C[CH]CCC(CCCCC)OO\"),\n",
       "              Molecule(smiles=\"C[CH]CCCC(CCCC)OO\"),\n",
       "              Molecule(smiles=\"[CH2]CCCC(CCCCC)OO\"),\n",
       "              Molecule(smiles=\"[CH2]CCCCC(CCCC)OO\"),\n",
       "              Molecule(smiles=\"CCCCCC[CH]CCCOO\"),\n",
       "              Molecule(smiles=\"CCCCCCC[CH]CCOO\"),\n",
       "              Molecule(smiles=\"CCCCCCCCC[CH]OO\"),\n",
       "              Molecule(smiles=\"CCCCCCCC[CH]COO\"),\n",
       "              Molecule(smiles=\"CCCC[CH]CCCCCOO\"),\n",
       "              Molecule(smiles=\"CCCCCCC[C](CC)OO\"),\n",
       "              Molecule(smiles=\"CCCCCC[CH]C(CC)OO\"),\n",
       "              Molecule(smiles=\"C[CH]C(CCCCCCC)OO\"),\n",
       "              Molecule(smiles=\"CCCCC[CH]CC(CC)OO\"),\n",
       "              Molecule(smiles=\"CCCC[CH]CCCC(C)OO\")}})"
      ]
     },
     "execution_count": 92,
     "metadata": {},
     "output_type": "execute_result"
    }
   ],
   "source": [
    "# Isomerize ROO to get QOOH\n",
    "for s in molecules['ROO']:\n",
    "    reactions = rmg.database.kinetics.generate_reactions_from_families((s, ), only_families='intra_H_migration')\n",
    "    display(s)\n",
    "    for r in reactions:\n",
    "        print(r)\n",
    "        molecules['QOOH'].add(r.products[0].molecule[0])\n",
    "molecules\n"
   ]
  },
  {
   "cell_type": "code",
   "execution_count": 93,
   "metadata": {},
   "outputs": [
    {
     "data": {
      "image/png": "[encoded data removed]",
      "text/plain": [
       "Molecule(smiles=\"CCC[CH]CCCCC(C)OO\")"
      ]
     },
     "metadata": {},
     "output_type": "display_data"
    },
    {
     "name": "stdout",
     "output_type": "stream",
     "text": [
      "[O][O] + CCC[CH]CCCCC(C)OO <=> CCCC(CCCCC(C)OO)O[O]\n"
     ]
    },
    {
     "data": {
      "image/png": "[encoded data removed]",
      "text/plain": [
       "Molecule(smiles=\"CCCCCC[C](CCC)OO\")"
      ]
     },
     "metadata": {},
     "output_type": "display_data"
    },
    {
     "name": "stdout",
     "output_type": "stream",
     "text": [
      "[O][O] + CCCCCC[C](CCC)OO <=> CCCCCCC(CCC)(O[O])OO\n"
     ]
    },
    {
     "data": {
      "image/png": "[encoded data removed]",
      "text/plain": [
       "Molecule(smiles=\"CCCCC[CH]C(CCC)OO\")"
      ]
     },
     "metadata": {},
     "output_type": "display_data"
    },
    {
     "name": "stdout",
     "output_type": "stream",
     "text": [
      "[O][O] + CCCCC[CH]C(CCC)OO <=> CCCCCC(O[O])C(CCC)OO\n"
     ]
    },
    {
     "data": {
      "image/png": "[encoded data removed]",
      "text/plain": [
       "Molecule(smiles=\"CC[CH]C(CCCCCC)OO\")"
      ]
     },
     "metadata": {},
     "output_type": "display_data"
    },
    {
     "name": "stdout",
     "output_type": "stream",
     "text": [
      "[O][O] + CC[CH]C(CCCCCC)OO <=> CCCCCCC(OO)C(CC)O[O]\n"
     ]
    },
    {
     "data": {
      "image/png": "[encoded data removed]",
      "text/plain": [
       "Molecule(smiles=\"CCCC[CH]CC(CCC)OO\")"
      ]
     },
     "metadata": {},
     "output_type": "display_data"
    },
    {
     "name": "stdout",
     "output_type": "stream",
     "text": [
      "[O][O] + CCCC[CH]CC(CCC)OO <=> CCCCC(CC(CCC)OO)O[O]\n"
     ]
    },
    {
     "data": {
      "image/png": "[encoded data removed]",
      "text/plain": [
       "Molecule(smiles=\"C[CH]CC(CCCCCC)OO\")"
      ]
     },
     "metadata": {},
     "output_type": "display_data"
    },
    {
     "name": "stdout",
     "output_type": "stream",
     "text": [
      "[O][O] + C[CH]CC(CCCCCC)OO <=> CCCCCCC(CC(C)O[O])OO\n"
     ]
    },
    {
     "data": {
      "image/png": "[encoded data removed]",
      "text/plain": [
       "Molecule(smiles=\"CCC[CH]CCC(CCC)OO\")"
      ]
     },
     "metadata": {},
     "output_type": "display_data"
    },
    {
     "name": "stdout",
     "output_type": "stream",
     "text": [
      "[O][O] + CCC[CH]CCC(CCC)OO <=> CCCC(CCC(CCC)OO)O[O]\n"
     ]
    },
    {
     "data": {
      "image/png": "[encoded data removed]",
      "text/plain": [
       "Molecule(smiles=\"[CH2]CCC(CCCCCC)OO\")"
      ]
     },
     "metadata": {},
     "output_type": "display_data"
    },
    {
     "name": "stdout",
     "output_type": "stream",
     "text": [
      "[O][O] + [CH2]CCC(CCCCCC)OO <=> CCCCCCC(CCCO[O])OO\n"
     ]
    },
    {
     "data": {
      "image/png": "[encoded data removed]",
      "text/plain": [
       "Molecule(smiles=\"CC[CH]CCCC(CCC)OO\")"
      ]
     },
     "metadata": {},
     "output_type": "display_data"
    },
    {
     "name": "stdout",
     "output_type": "stream",
     "text": [
      "[O][O] + CC[CH]CCCC(CCC)OO <=> CCCC(CCCC(CC)O[O])OO\n"
     ]
    },
    {
     "data": {
      "image/png": "[encoded data removed]",
      "text/plain": [
       "Molecule(smiles=\"C[CH]CCCCC(CCC)OO\")"
      ]
     },
     "metadata": {},
     "output_type": "display_data"
    },
    {
     "name": "stdout",
     "output_type": "stream",
     "text": [
      "[O][O] + C[CH]CCCCC(CCC)OO <=> CCCC(CCCCC(C)O[O])OO\n"
     ]
    },
    {
     "data": {
      "image/png": "[encoded data removed]",
      "text/plain": [
       "Molecule(smiles=\"CCCCCC[CH]CC(C)OO\")"
      ]
     },
     "metadata": {},
     "output_type": "display_data"
    },
    {
     "name": "stdout",
     "output_type": "stream",
     "text": [
      "[O][O] + CCCCCC[CH]CC(C)OO <=> CCCCCCC(CC(C)OO)O[O]\n"
     ]
    },
    {
     "data": {
      "image/png": "[encoded data removed]",
      "text/plain": [
       "Molecule(smiles=\"CCCCC[CH]CCC(C)OO\")"
      ]
     },
     "metadata": {},
     "output_type": "display_data"
    },
    {
     "name": "stdout",
     "output_type": "stream",
     "text": [
      "[O][O] + CCCCC[CH]CCC(C)OO <=> CCCCCC(CCC(C)OO)O[O]\n"
     ]
    },
    {
     "data": {
      "image/png": "[encoded data removed]",
      "text/plain": [
       "Molecule(smiles=\"[CH2]CC(CCCCCCC)OO\")"
      ]
     },
     "metadata": {},
     "output_type": "display_data"
    },
    {
     "name": "stdout",
     "output_type": "stream",
     "text": [
      "[O][O] + [CH2]CC(CCCCCCC)OO <=> CCCCCCCC(CCO[O])OO\n"
     ]
    },
    {
     "data": {
      "image/png": "[encoded data removed]",
      "text/plain": [
       "Molecule(smiles=\"CCCC[CH]CCC(CC)OO\")"
      ]
     },
     "metadata": {},
     "output_type": "display_data"
    },
    {
     "name": "stdout",
     "output_type": "stream",
     "text": [
      "[O][O] + CCCC[CH]CCC(CC)OO <=> CCCCC(CCC(CC)OO)O[O]\n"
     ]
    },
    {
     "data": {
      "image/png": "[encoded data removed]",
      "text/plain": [
       "Molecule(smiles=\"CCC[CH]CCCC(CC)OO\")"
      ]
     },
     "metadata": {},
     "output_type": "display_data"
    },
    {
     "name": "stdout",
     "output_type": "stream",
     "text": [
      "[O][O] + CCC[CH]CCCC(CC)OO <=> CCCC(CCCC(CC)OO)O[O]\n"
     ]
    },
    {
     "data": {
      "image/png": "[encoded data removed]",
      "text/plain": [
       "Molecule(smiles=\"CC[CH]CCCCC(CC)OO\")"
      ]
     },
     "metadata": {},
     "output_type": "display_data"
    },
    {
     "name": "stdout",
     "output_type": "stream",
     "text": [
      "[O][O] + CC[CH]CCCCC(CC)OO <=> CCC(CCCCC(CC)OO)O[O]\n"
     ]
    },
    {
     "data": {
      "image/png": "[encoded data removed]",
      "text/plain": [
       "Molecule(smiles=\"CCCCCCCC[C](C)OO\")"
      ]
     },
     "metadata": {},
     "output_type": "display_data"
    },
    {
     "name": "stdout",
     "output_type": "stream",
     "text": [
      "[O][O] + CCCCCCCC[C](C)OO <=> CCCCCCCCC(C)(O[O])OO\n"
     ]
    },
    {
     "data": {
      "image/png": "[encoded data removed]",
      "text/plain": [
       "Molecule(smiles=\"CCCCCCC[CH]C(C)OO\")"
      ]
     },
     "metadata": {},
     "output_type": "display_data"
    },
    {
     "name": "stdout",
     "output_type": "stream",
     "text": [
      "[O][O] + CCCCCCC[CH]C(C)OO <=> CCCCCCCC(O[O])C(C)OO\n"
     ]
    },
    {
     "data": {
      "image/png": "[encoded data removed]",
      "text/plain": [
       "Molecule(smiles=\"[CH2]C(CCCCCCCC)OO\")"
      ]
     },
     "metadata": {},
     "output_type": "display_data"
    },
    {
     "name": "stdout",
     "output_type": "stream",
     "text": [
      "[O][O] + [CH2]C(CCCCCCCC)OO <=> CCCCCCCCC(CO[O])OO\n"
     ]
    },
    {
     "data": {
      "image/png": "[encoded data removed]",
      "text/plain": [
       "Molecule(smiles=\"CCCCC[CH]CCCCOO\")"
      ]
     },
     "metadata": {},
     "output_type": "display_data"
    },
    {
     "name": "stdout",
     "output_type": "stream",
     "text": [
      "[O][O] + CCCCC[CH]CCCCOO <=> CCCCCC(CCCCOO)O[O]\n"
     ]
    },
    {
     "data": {
      "image/png": "[encoded data removed]",
      "text/plain": [
       "Molecule(smiles=\"CCCCC[C](CCCC)OO\")"
      ]
     },
     "metadata": {},
     "output_type": "display_data"
    },
    {
     "name": "stdout",
     "output_type": "stream",
     "text": [
      "[O][O] + CCCCC[C](CCCC)OO <=> CCCCCC(CCCC)(O[O])OO\n"
     ]
    },
    {
     "data": {
      "image/png": "[encoded data removed]",
      "text/plain": [
       "Molecule(smiles=\"CCCC[CH]C(CCCC)OO\")"
      ]
     },
     "metadata": {},
     "output_type": "display_data"
    },
    {
     "name": "stdout",
     "output_type": "stream",
     "text": [
      "[O][O] + CCCC[CH]C(CCCC)OO <=> CCCCC(O[O])C(CCCC)OO\n"
     ]
    },
    {
     "data": {
      "image/png": "[encoded data removed]",
      "text/plain": [
       "Molecule(smiles=\"CCC[CH]C(CCCCC)OO\")"
      ]
     },
     "metadata": {},
     "output_type": "display_data"
    },
    {
     "name": "stdout",
     "output_type": "stream",
     "text": [
      "[O][O] + CCC[CH]C(CCCCC)OO <=> CCCCCC(OO)C(CCC)O[O]\n"
     ]
    },
    {
     "data": {
      "image/png": "[encoded data removed]",
      "text/plain": [
       "Molecule(smiles=\"CCC[CH]CC(CCCC)OO\")"
      ]
     },
     "metadata": {},
     "output_type": "display_data"
    },
    {
     "name": "stdout",
     "output_type": "stream",
     "text": [
      "[O][O] + CCC[CH]CC(CCCC)OO <=> CCCCC(CC(CCC)O[O])OO\n"
     ]
    },
    {
     "data": {
      "image/png": "[encoded data removed]",
      "text/plain": [
       "Molecule(smiles=\"CC[CH]CC(CCCCC)OO\")"
      ]
     },
     "metadata": {},
     "output_type": "display_data"
    },
    {
     "name": "stdout",
     "output_type": "stream",
     "text": [
      "[O][O] + CC[CH]CC(CCCCC)OO <=> CCCCCC(CC(CC)O[O])OO\n"
     ]
    },
    {
     "data": {
      "image/png": "[encoded data removed]",
      "text/plain": [
       "Molecule(smiles=\"CC[CH]CCC(CCCC)OO\")"
      ]
     },
     "metadata": {},
     "output_type": "display_data"
    },
    {
     "name": "stdout",
     "output_type": "stream",
     "text": [
      "[O][O] + CC[CH]CCC(CCCC)OO <=> CCCCC(CCC(CC)O[O])OO\n"
     ]
    },
    {
     "data": {
      "image/png": "[encoded data removed]",
      "text/plain": [
       "Molecule(smiles=\"C[CH]CCC(CCCCC)OO\")"
      ]
     },
     "metadata": {},
     "output_type": "display_data"
    },
    {
     "name": "stdout",
     "output_type": "stream",
     "text": [
      "[O][O] + C[CH]CCC(CCCCC)OO <=> CCCCCC(CCC(C)O[O])OO\n"
     ]
    },
    {
     "data": {
      "image/png": "[encoded data removed]",
      "text/plain": [
       "Molecule(smiles=\"C[CH]CCCC(CCCC)OO\")"
      ]
     },
     "metadata": {},
     "output_type": "display_data"
    },
    {
     "name": "stdout",
     "output_type": "stream",
     "text": [
      "[O][O] + C[CH]CCCC(CCCC)OO <=> CCCCC(CCCC(C)O[O])OO\n"
     ]
    },
    {
     "data": {
      "image/png": "[encoded data removed]",
      "text/plain": [
       "Molecule(smiles=\"[CH2]CCCC(CCCCC)OO\")"
      ]
     },
     "metadata": {},
     "output_type": "display_data"
    },
    {
     "name": "stdout",
     "output_type": "stream",
     "text": [
      "[O][O] + [CH2]CCCC(CCCCC)OO <=> CCCCCC(CCCCO[O])OO\n"
     ]
    },
    {
     "data": {
      "image/png": "[encoded data removed]",
      "text/plain": [
       "Molecule(smiles=\"[CH2]CCCCC(CCCC)OO\")"
      ]
     },
     "metadata": {},
     "output_type": "display_data"
    },
    {
     "name": "stdout",
     "output_type": "stream",
     "text": [
      "[O][O] + [CH2]CCCCC(CCCC)OO <=> CCCCC(CCCCCO[O])OO\n"
     ]
    },
    {
     "data": {
      "image/png": "[encoded data removed]",
      "text/plain": [
       "Molecule(smiles=\"CCCCCC[CH]CCCOO\")"
      ]
     },
     "metadata": {},
     "output_type": "display_data"
    },
    {
     "name": "stdout",
     "output_type": "stream",
     "text": [
      "[O][O] + CCCCCC[CH]CCCOO <=> CCCCCCC(CCCOO)O[O]\n"
     ]
    },
    {
     "data": {
      "image/png": "[encoded data removed]",
      "text/plain": [
       "Molecule(smiles=\"CCCCCCC[CH]CCOO\")"
      ]
     },
     "metadata": {},
     "output_type": "display_data"
    },
    {
     "name": "stdout",
     "output_type": "stream",
     "text": [
      "[O][O] + CCCCCCC[CH]CCOO <=> CCCCCCCC(CCOO)O[O]\n"
     ]
    },
    {
     "data": {
      "image/png": "[encoded data removed]",
      "text/plain": [
       "Molecule(smiles=\"CCCCCCCCC[CH]OO\")"
      ]
     },
     "metadata": {},
     "output_type": "display_data"
    },
    {
     "name": "stdout",
     "output_type": "stream",
     "text": [
      "[O][O] + CCCCCCCCC[CH]OO <=> CCCCCCCCCC(O[O])OO\n"
     ]
    },
    {
     "data": {
      "image/png": "[encoded data removed]",
      "text/plain": [
       "Molecule(smiles=\"CCCCCCCC[CH]COO\")"
      ]
     },
     "metadata": {},
     "output_type": "display_data"
    },
    {
     "name": "stdout",
     "output_type": "stream",
     "text": [
      "[O][O] + CCCCCCCC[CH]COO <=> CCCCCCCCC(COO)O[O]\n"
     ]
    },
    {
     "data": {
      "image/png": "[encoded data removed]",
      "text/plain": [
       "Molecule(smiles=\"CCCC[CH]CCCCCOO\")"
      ]
     },
     "metadata": {},
     "output_type": "display_data"
    },
    {
     "name": "stdout",
     "output_type": "stream",
     "text": [
      "[O][O] + CCCC[CH]CCCCCOO <=> CCCCC(CCCCCOO)O[O]\n"
     ]
    },
    {
     "data": {
      "image/png": "[encoded data removed]",
      "text/plain": [
       "Molecule(smiles=\"CCCCCCC[C](CC)OO\")"
      ]
     },
     "metadata": {},
     "output_type": "display_data"
    },
    {
     "name": "stdout",
     "output_type": "stream",
     "text": [
      "[O][O] + CCCCCCC[C](CC)OO <=> CCCCCCCC(CC)(O[O])OO\n"
     ]
    },
    {
     "data": {
      "image/png": "[encoded data removed]",
      "text/plain": [
       "Molecule(smiles=\"CCCCCC[CH]C(CC)OO\")"
      ]
     },
     "metadata": {},
     "output_type": "display_data"
    },
    {
     "name": "stdout",
     "output_type": "stream",
     "text": [
      "[O][O] + CCCCCC[CH]C(CC)OO <=> CCCCCCC(O[O])C(CC)OO\n"
     ]
    },
    {
     "data": {
      "image/png": "[encoded data removed]",
      "text/plain": [
       "Molecule(smiles=\"C[CH]C(CCCCCCC)OO\")"
      ]
     },
     "metadata": {},
     "output_type": "display_data"
    },
    {
     "name": "stdout",
     "output_type": "stream",
     "text": [
      "[O][O] + C[CH]C(CCCCCCC)OO <=> CCCCCCCC(OO)C(C)O[O]\n"
     ]
    },
    {
     "data": {
      "image/png": "[encoded data removed]",
      "text/plain": [
       "Molecule(smiles=\"CCCCC[CH]CC(CC)OO\")"
      ]
     },
     "metadata": {},
     "output_type": "display_data"
    },
    {
     "name": "stdout",
     "output_type": "stream",
     "text": [
      "[O][O] + CCCCC[CH]CC(CC)OO <=> CCCCCC(CC(CC)OO)O[O]\n"
     ]
    },
    {
     "data": {
      "image/png": "[encoded data removed]",
      "text/plain": [
       "Molecule(smiles=\"CCCC[CH]CCCC(C)OO\")"
      ]
     },
     "metadata": {},
     "output_type": "display_data"
    },
    {
     "name": "stdout",
     "output_type": "stream",
     "text": [
      "[O][O] + CCCC[CH]CCCC(C)OO <=> CCCCC(CCCC(C)OO)O[O]\n"
     ]
    },
    {
     "data": {
      "text/plain": [
       "defaultdict(set,\n",
       "            {'fuel': {Molecule(smiles=\"CCCCCCCCCC\")},\n",
       "             'H': {Molecule(smiles=\"[H]\")},\n",
       "             'R': {Molecule(smiles=\"CCC[CH]CCCCCC\"),\n",
       "              Molecule(smiles=\"CCCC[CH]CCCCC\"),\n",
       "              Molecule(smiles=\"C[CH]CCCCCCCC\"),\n",
       "              Molecule(smiles=\"CC[CH]CCCCCCC\"),\n",
       "              Molecule(smiles=\"[CH2]CCCCCCCCC\")},\n",
       "             'O2': {Molecule(smiles=\"[O][O]\")},\n",
       "             'ROO': {Molecule(smiles=\"CCCCCCCCCCO[O]\"),\n",
       "              Molecule(smiles=\"CCCCCCCC(CC)O[O]\"),\n",
       "              Molecule(smiles=\"CCCCCCCCC(C)O[O]\"),\n",
       "              Molecule(smiles=\"CCCCCCC(CCC)O[O]\"),\n",
       "              Molecule(smiles=\"CCCCCC(CCCC)O[O]\")},\n",
       "             'QOOH': {Molecule(smiles=\"CCC[CH]CCCCC(C)OO\"),\n",
       "              Molecule(smiles=\"CCCCCC[C](CCC)OO\"),\n",
       "              Molecule(smiles=\"CCCCC[CH]C(CCC)OO\"),\n",
       "              Molecule(smiles=\"CC[CH]C(CCCCCC)OO\"),\n",
       "              Molecule(smiles=\"CCCC[CH]CC(CCC)OO\"),\n",
       "              Molecule(smiles=\"C[CH]CC(CCCCCC)OO\"),\n",
       "              Molecule(smiles=\"CCC[CH]CCC(CCC)OO\"),\n",
       "              Molecule(smiles=\"[CH2]CCC(CCCCCC)OO\"),\n",
       "              Molecule(smiles=\"CC[CH]CCCC(CCC)OO\"),\n",
       "              Molecule(smiles=\"C[CH]CCCCC(CCC)OO\"),\n",
       "              Molecule(smiles=\"CCCCCC[CH]CC(C)OO\"),\n",
       "              Molecule(smiles=\"CCCCC[CH]CCC(C)OO\"),\n",
       "              Molecule(smiles=\"[CH2]CC(CCCCCCC)OO\"),\n",
       "              Molecule(smiles=\"CCCC[CH]CCC(CC)OO\"),\n",
       "              Molecule(smiles=\"CCC[CH]CCCC(CC)OO\"),\n",
       "              Molecule(smiles=\"CC[CH]CCCCC(CC)OO\"),\n",
       "              Molecule(smiles=\"CCCCCCCC[C](C)OO\"),\n",
       "              Molecule(smiles=\"CCCCCCC[CH]C(C)OO\"),\n",
       "              Molecule(smiles=\"[CH2]C(CCCCCCCC)OO\"),\n",
       "              Molecule(smiles=\"CCCCC[CH]CCCCOO\"),\n",
       "              Molecule(smiles=\"CCCCC[C](CCCC)OO\"),\n",
       "              Molecule(smiles=\"CCCC[CH]C(CCCC)OO\"),\n",
       "              Molecule(smiles=\"CCC[CH]C(CCCCC)OO\"),\n",
       "              Molecule(smiles=\"CCC[CH]CC(CCCC)OO\"),\n",
       "              Molecule(smiles=\"CC[CH]CC(CCCCC)OO\"),\n",
       "              Molecule(smiles=\"CC[CH]CCC(CCCC)OO\"),\n",
       "              Molecule(smiles=\"C[CH]CCC(CCCCC)OO\"),\n",
       "              Molecule(smiles=\"C[CH]CCCC(CCCC)OO\"),\n",
       "              Molecule(smiles=\"[CH2]CCCC(CCCCC)OO\"),\n",
       "              Molecule(smiles=\"[CH2]CCCCC(CCCC)OO\"),\n",
       "              Molecule(smiles=\"CCCCCC[CH]CCCOO\"),\n",
       "              Molecule(smiles=\"CCCCCCC[CH]CCOO\"),\n",
       "              Molecule(smiles=\"CCCCCCCCC[CH]OO\"),\n",
       "              Molecule(smiles=\"CCCCCCCC[CH]COO\"),\n",
       "              Molecule(smiles=\"CCCC[CH]CCCCCOO\"),\n",
       "              Molecule(smiles=\"CCCCCCC[C](CC)OO\"),\n",
       "              Molecule(smiles=\"CCCCCC[CH]C(CC)OO\"),\n",
       "              Molecule(smiles=\"C[CH]C(CCCCCCC)OO\"),\n",
       "              Molecule(smiles=\"CCCCC[CH]CC(CC)OO\"),\n",
       "              Molecule(smiles=\"CCCC[CH]CCCC(C)OO\")},\n",
       "             'OOQOOH': {Molecule(smiles=\"CCCC(CCC(CCC)OO)O[O]\"),\n",
       "              Molecule(smiles=\"CCCCCCC(CCCO[O])OO\"),\n",
       "              Molecule(smiles=\"CCCC(CCCC(CC)O[O])OO\"),\n",
       "              Molecule(smiles=\"CCCC(CCCCC(C)O[O])OO\"),\n",
       "              Molecule(smiles=\"CCCCCCCCC(CO[O])OO\"),\n",
       "              Molecule(smiles=\"CCCCCCCC(O[O])C(C)OO\"),\n",
       "              Molecule(smiles=\"CCC(CCCCC(CC)OO)O[O]\"),\n",
       "              Molecule(smiles=\"CCCCCCC(CC(C)OO)O[O]\"),\n",
       "              Molecule(smiles=\"CCCCCC(CCCCOO)O[O]\"),\n",
       "              Molecule(smiles=\"CCCCCC(CCCC)(O[O])OO\"),\n",
       "              Molecule(smiles=\"CCCCC(O[O])C(CCCC)OO\"),\n",
       "              Molecule(smiles=\"CCCCCC(OO)C(CCC)O[O]\"),\n",
       "              Molecule(smiles=\"CCCCC(CC(CCC)O[O])OO\"),\n",
       "              Molecule(smiles=\"CCCCCC(CC(CC)O[O])OO\"),\n",
       "              Molecule(smiles=\"CCCCC(CCC(CC)O[O])OO\"),\n",
       "              Molecule(smiles=\"CCCCCC(CCC(C)O[O])OO\"),\n",
       "              Molecule(smiles=\"CCCCC(CCCC(C)O[O])OO\"),\n",
       "              Molecule(smiles=\"CCCCCC(CCCCO[O])OO\"),\n",
       "              Molecule(smiles=\"CCCCC(CCCCCO[O])OO\"),\n",
       "              Molecule(smiles=\"CCCCCCC(CCCOO)O[O]\"),\n",
       "              Molecule(smiles=\"CCCCCCCCC(C)(O[O])OO\"),\n",
       "              Molecule(smiles=\"CCCCCC(CCC(C)OO)O[O]\"),\n",
       "              Molecule(smiles=\"CCCCCCCC(CCO[O])OO\"),\n",
       "              Molecule(smiles=\"CCCCC(CCC(CC)OO)O[O]\"),\n",
       "              Molecule(smiles=\"CCCC(CCCC(CC)OO)O[O]\"),\n",
       "              Molecule(smiles=\"CCCC(CCCCC(C)OO)O[O]\"),\n",
       "              Molecule(smiles=\"CCCCC(CC(CCC)OO)O[O]\"),\n",
       "              Molecule(smiles=\"CCCCCCC(OO)C(CC)O[O]\"),\n",
       "              Molecule(smiles=\"CCCCCCC(CCC)(O[O])OO\"),\n",
       "              Molecule(smiles=\"CCCCCC(O[O])C(CCC)OO\"),\n",
       "              Molecule(smiles=\"CCCCCCCC(CCOO)O[O]\"),\n",
       "              Molecule(smiles=\"CCCCCCCCCC(O[O])OO\"),\n",
       "              Molecule(smiles=\"CCCCCCCCC(COO)O[O]\"),\n",
       "              Molecule(smiles=\"CCCCC(CCCCCOO)O[O]\"),\n",
       "              Molecule(smiles=\"CCCCCCCC(CC)(O[O])OO\"),\n",
       "              Molecule(smiles=\"CCCCCCC(O[O])C(CC)OO\"),\n",
       "              Molecule(smiles=\"CCCCCCCC(OO)C(C)O[O]\"),\n",
       "              Molecule(smiles=\"CCCCCC(CC(CC)OO)O[O]\"),\n",
       "              Molecule(smiles=\"CCCCC(CCCC(C)OO)O[O]\"),\n",
       "              Molecule(smiles=\"CCCCCCC(CC(C)O[O])OO\")}})"
      ]
     },
     "execution_count": 93,
     "metadata": {},
     "output_type": "execute_result"
    }
   ],
   "source": [
    "# React QOOH with O2 to get the O2QOOH\n",
    "o2 = list(molecules['O2'])[0]\n",
    "for s in molecules['QOOH']:\n",
    "    reactions = rmg.database.kinetics.generate_reactions_from_families((s, o2), only_families='R_Recombination')\n",
    "    display(s)\n",
    "    for r in reactions:\n",
    "        print(r)\n",
    "        molecules['OOQOOH'].add(r.products[0].molecule[0])\n",
    "molecules"
   ]
  },
  {
   "cell_type": "code",
   "execution_count": 95,
   "metadata": {},
   "outputs": [
    {
     "name": "stdout",
     "output_type": "stream",
     "text": [
      "These are the OOQOOH\n"
     ]
    },
    {
     "data": {
      "image/png": "[encoded data removed]",
      "text/plain": [
       "Molecule(smiles=\"CCCC(CCC(CCC)OO)O[O]\")"
      ]
     },
     "metadata": {},
     "output_type": "display_data"
    },
    {
     "data": {
      "image/png": "[encoded data removed]",
      "text/plain": [
       "Molecule(smiles=\"CCCCCCC(CCCO[O])OO\")"
      ]
     },
     "metadata": {},
     "output_type": "display_data"
    },
    {
     "data": {
      "image/png": "[encoded data removed]",
      "text/plain": [
       "Molecule(smiles=\"CCCC(CCCC(CC)O[O])OO\")"
      ]
     },
     "metadata": {},
     "output_type": "display_data"
    },
    {
     "data": {
      "image/png": "[encoded data removed]",
      "text/plain": [
       "Molecule(smiles=\"CCCC(CCCCC(C)O[O])OO\")"
      ]
     },
     "metadata": {},
     "output_type": "display_data"
    },
    {
     "data": {
      "image/png": "[encoded data removed]",
      "text/plain": [
       "Molecule(smiles=\"CCCCCCCCC(CO[O])OO\")"
      ]
     },
     "metadata": {},
     "output_type": "display_data"
    },
    {
     "data": {
      "image/png": "[encoded data removed]",
      "text/plain": [
       "Molecule(smiles=\"CCCCCCCC(O[O])C(C)OO\")"
      ]
     },
     "metadata": {},
     "output_type": "display_data"
    },
    {
     "data": {
      "image/png": "[encoded data removed]",
      "text/plain": [
       "Molecule(smiles=\"CCC(CCCCC(CC)OO)O[O]\")"
      ]
     },
     "metadata": {},
     "output_type": "display_data"
    },
    {
     "data": {
      "image/png": "[encoded data removed]",
      "text/plain": [
       "Molecule(smiles=\"CCCCCCC(CC(C)OO)O[O]\")"
      ]
     },
     "metadata": {},
     "output_type": "display_data"
    },
    {
     "data": {
      "image/png": "[encoded data removed]",
      "text/plain": [
       "Molecule(smiles=\"CCCCCC(CCCCOO)O[O]\")"
      ]
     },
     "metadata": {},
     "output_type": "display_data"
    },
    {
     "data": {
      "image/png": "[encoded data removed]",
      "text/plain": [
       "Molecule(smiles=\"CCCCCC(CCCC)(O[O])OO\")"
      ]
     },
     "metadata": {},
     "output_type": "display_data"
    },
    {
     "data": {
      "image/png": "[encoded data removed]",
      "text/plain": [
       "Molecule(smiles=\"CCCCC(O[O])C(CCCC)OO\")"
      ]
     },
     "metadata": {},
     "output_type": "display_data"
    },
    {
     "data": {
      "image/png": "[encoded data removed]",
      "text/plain": [
       "Molecule(smiles=\"CCCCCC(OO)C(CCC)O[O]\")"
      ]
     },
     "metadata": {},
     "output_type": "display_data"
    },
    {
     "data": {
      "image/png": "[encoded data removed]",
      "text/plain": [
       "Molecule(smiles=\"CCCCC(CC(CCC)O[O])OO\")"
      ]
     },
     "metadata": {},
     "output_type": "display_data"
    },
    {
     "data": {
      "image/png": "[encoded data removed]",
      "text/plain": [
       "Molecule(smiles=\"CCCCCC(CC(CC)O[O])OO\")"
      ]
     },
     "metadata": {},
     "output_type": "display_data"
    },
    {
     "data": {
      "image/png": "[encoded data removed]",
      "text/plain": [
       "Molecule(smiles=\"CCCCC(CCC(CC)O[O])OO\")"
      ]
     },
     "metadata": {},
     "output_type": "display_data"
    },
    {
     "data": {
      "image/png": "[encoded data removed]",
      "text/plain": [
       "Molecule(smiles=\"CCCCCC(CCC(C)O[O])OO\")"
      ]
     },
     "metadata": {},
     "output_type": "display_data"
    },
    {
     "data": {
      "image/png": "[encoded data removed]",
      "text/plain": [
       "Molecule(smiles=\"CCCCC(CCCC(C)O[O])OO\")"
      ]
     },
     "metadata": {},
     "output_type": "display_data"
    },
    {
     "data": {
      "image/png": "[encoded data removed]",
      "text/plain": [
       "Molecule(smiles=\"CCCCCC(CCCCO[O])OO\")"
      ]
     },
     "metadata": {},
     "output_type": "display_data"
    },
    {
     "data": {
      "image/png": "[encoded data removed]",
      "text/plain": [
       "Molecule(smiles=\"CCCCC(CCCCCO[O])OO\")"
      ]
     },
     "metadata": {},
     "output_type": "display_data"
    },
    {
     "data": {
      "image/png": "[encoded data removed]",
      "text/plain": [
       "Molecule(smiles=\"CCCCCCC(CCCOO)O[O]\")"
      ]
     },
     "metadata": {},
     "output_type": "display_data"
    },
    {
     "data": {
      "image/png": "[encoded data removed]",
      "text/plain": [
       "Molecule(smiles=\"CCCCCCCCC(C)(O[O])OO\")"
      ]
     },
     "metadata": {},
     "output_type": "display_data"
    },
    {
     "data": {
      "image/png": "[encoded data removed]",
      "text/plain": [
       "Molecule(smiles=\"CCCCCC(CCC(C)OO)O[O]\")"
      ]
     },
     "metadata": {},
     "output_type": "display_data"
    },
    {
     "data": {
      "image/png": "[encoded data removed]",
      "text/plain": [
       "Molecule(smiles=\"CCCCCCCC(CCO[O])OO\")"
      ]
     },
     "metadata": {},
     "output_type": "display_data"
    },
    {
     "data": {
      "image/png": "[encoded data removed]",
      "text/plain": [
       "Molecule(smiles=\"CCCCC(CCC(CC)OO)O[O]\")"
      ]
     },
     "metadata": {},
     "output_type": "display_data"
    },
    {
     "data": {
      "image/png": "[encoded data removed]",
      "text/plain": [
       "Molecule(smiles=\"CCCC(CCCC(CC)OO)O[O]\")"
      ]
     },
     "metadata": {},
     "output_type": "display_data"
    },
    {
     "data": {
      "image/png": "[encoded data removed]",
      "text/plain": [
       "Molecule(smiles=\"CCCC(CCCCC(C)OO)O[O]\")"
      ]
     },
     "metadata": {},
     "output_type": "display_data"
    },
    {
     "data": {
      "image/png": "[encoded data removed]",
      "text/plain": [
       "Molecule(smiles=\"CCCCC(CC(CCC)OO)O[O]\")"
      ]
     },
     "metadata": {},
     "output_type": "display_data"
    },
    {
     "data": {
      "image/png": "[encoded data removed]",
      "text/plain": [
       "Molecule(smiles=\"CCCCCCC(OO)C(CC)O[O]\")"
      ]
     },
     "metadata": {},
     "output_type": "display_data"
    },
    {
     "data": {
      "image/png": "[encoded data removed]",
      "text/plain": [
       "Molecule(smiles=\"CCCCCCC(CCC)(O[O])OO\")"
      ]
     },
     "metadata": {},
     "output_type": "display_data"
    },
    {
     "data": {
      "image/png": "[encoded data removed]",
      "text/plain": [
       "Molecule(smiles=\"CCCCCC(O[O])C(CCC)OO\")"
      ]
     },
     "metadata": {},
     "output_type": "display_data"
    },
    {
     "data": {
      "image/png": "[encoded data removed]",
      "text/plain": [
       "Molecule(smiles=\"CCCCCCCC(CCOO)O[O]\")"
      ]
     },
     "metadata": {},
     "output_type": "display_data"
    },
    {
     "data": {
      "image/png": "[encoded data removed]",
      "text/plain": [
       "Molecule(smiles=\"CCCCCCCCCC(O[O])OO\")"
      ]
     },
     "metadata": {},
     "output_type": "display_data"
    },
    {
     "data": {
      "image/png": "[encoded data removed]",
      "text/plain": [
       "Molecule(smiles=\"CCCCCCCCC(COO)O[O]\")"
      ]
     },
     "metadata": {},
     "output_type": "display_data"
    },
    {
     "data": {
      "image/png": "[encoded data removed]",
      "text/plain": [
       "Molecule(smiles=\"CCCCC(CCCCCOO)O[O]\")"
      ]
     },
     "metadata": {},
     "output_type": "display_data"
    },
    {
     "data": {
      "image/png": "[encoded data removed]",
      "text/plain": [
       "Molecule(smiles=\"CCCCCCCC(CC)(O[O])OO\")"
      ]
     },
     "metadata": {},
     "output_type": "display_data"
    },
    {
     "data": {
      "image/png": "[encoded data removed]",
      "text/plain": [
       "Molecule(smiles=\"CCCCCCC(O[O])C(CC)OO\")"
      ]
     },
     "metadata": {},
     "output_type": "display_data"
    },
    {
     "data": {
      "image/png": "[encoded data removed]",
      "text/plain": [
       "Molecule(smiles=\"CCCCCCCC(OO)C(C)O[O]\")"
      ]
     },
     "metadata": {},
     "output_type": "display_data"
    },
    {
     "data": {
      "image/png": "[encoded data removed]",
      "text/plain": [
       "Molecule(smiles=\"CCCCCC(CC(CC)OO)O[O]\")"
      ]
     },
     "metadata": {},
     "output_type": "display_data"
    },
    {
     "data": {
      "image/png": "[encoded data removed]",
      "text/plain": [
       "Molecule(smiles=\"CCCCC(CCCC(C)OO)O[O]\")"
      ]
     },
     "metadata": {},
     "output_type": "display_data"
    },
    {
     "data": {
      "image/png": "[encoded data removed]",
      "text/plain": [
       "Molecule(smiles=\"CCCCCCC(CC(C)O[O])OO\")"
      ]
     },
     "metadata": {},
     "output_type": "display_data"
    }
   ],
   "source": [
    "print(\"These are the OOQOOH\")\n",
    "for m in molecules['OOQOOH']:\n",
    "    display(m)"
   ]
  },
  {
   "cell_type": "code",
   "execution_count": 96,
   "metadata": {},
   "outputs": [],
   "source": [
    "# What next? OH + keto-hydroperoxide or HO2 + alkenyl hydroperoxide "
   ]
  },
  {
   "cell_type": "code",
   "execution_count": null,
   "metadata": {},
   "outputs": [],
   "source": []
  },
  {
   "cell_type": "code",
   "execution_count": null,
   "metadata": {},
   "outputs": [],
   "source": []
  }
 ],
 "metadata": {
  "anaconda-cloud": {},
  "kernelspec": {
   "display_name": "Python 3",
   "language": "python",
   "name": "python3"
  },
  "language_info": {
   "codemirror_mode": {
    "name": "ipython",
    "version": 3
   },
   "file_extension": ".py",
   "mimetype": "text/x-python",
   "name": "python",
   "nbconvert_exporter": "python",
   "pygments_lexer": "ipython3",
   "version": "3.7.4"
  }
 },
 "nbformat": 4,
 "nbformat_minor": 1
}
